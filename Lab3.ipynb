{
 "cells": [
  {
   "cell_type": "markdown",
   "metadata": {},
   "source": [
    "# COMP24111 - Exercise 3: _Face recognition_\n",
    "\n",
    "## 1. Task description\n",
    "\n",
    "You will work on a face recognition task. The provided dataset includes face images of 40 subjects. There are a total of 400 images, with 10 images per subject. Each image contains 32×32=1024 pixels, with 256 grey levels per pixel."
   ]
  },
  {
   "cell_type": "markdown",
   "metadata": {},
   "source": [
    "## 2. Preparation"
   ]
  },
  {
   "cell_type": "markdown",
   "metadata": {},
   "source": [
    "### Setting up\n",
    "\n",
    "The functions that you need are defined in the source file we have provided you with. To use them you must import it first:"
   ]
  },
  {
   "cell_type": "code",
   "execution_count": 1,
   "metadata": {},
   "outputs": [],
   "source": [
    "from lab3lib import load_data, show_single_face, show_faces, partition_data, split_left_right, join_left_right, show_split_faces"
   ]
  },
  {
   "cell_type": "markdown",
   "metadata": {},
   "source": [
    "Now you can load the data:"
   ]
  },
  {
   "cell_type": "code",
   "execution_count": 2,
   "metadata": {},
   "outputs": [],
   "source": [
    "data, labels = load_data()"
   ]
  },
  {
   "cell_type": "markdown",
   "metadata": {},
   "source": [
    "### Visualising the dataset\n",
    "\n",
    "You can observe the faces stored in a data matrix by using the functions `show_single_face()` and `show_faces()`."
   ]
  },
  {
   "cell_type": "code",
   "execution_count": 3,
   "metadata": {
    "scrolled": true
   },
   "outputs": [
    {
     "data": {
      "image/png": "[encoded data removed]",
      "text/plain": [
       "<Figure size 432x288 with 1 Axes>"
      ]
     },
     "metadata": {
      "needs_background": "light"
     },
     "output_type": "display_data"
    }
   ],
   "source": [
    "# Display a single example.\n",
    "show_single_face(data[0, :])"
   ]
  },
  {
   "cell_type": "code",
   "execution_count": 4,
   "metadata": {
    "scrolled": true
   },
   "outputs": [
    {
     "data": {
      "image/png": "[encoded data removed]",
      "text/plain": [
       "<Figure size 432x288 with 1 Axes>"
      ]
     },
     "metadata": {
      "needs_background": "light"
     },
     "output_type": "display_data"
    }
   ],
   "source": [
    "# Display the first 16 examples in a 4x4 grid.\n",
    "show_faces(data[20:30, :], num_per_row=10)"
   ]
  },
  {
   "cell_type": "markdown",
   "metadata": {},
   "source": [
    "### Splitting into train and test set\n",
    "\n",
    "A data partition function is supplied to facilitate your experiments. It randomly splits the provided data into the training and test sets, where the training set contains $N$ samples per class and the test set contains\n",
    "the remaining samples. It takes the labels and the specified number $N$ as the input. It returns the sample indices in the training and test set. For example, the following code divides a given set of 400 samples into a training set containing 3 samples per subject and a test set containing 7 samples per subject:"
   ]
  },
  {
   "cell_type": "code",
   "execution_count": 5,
   "metadata": {},
   "outputs": [
    {
     "name": "stdout",
     "output_type": "stream",
     "text": [
      "[1 1 1 1 1 1 1 1 1 2 2]\n",
      "[ 1  4  5  6  7 10 11 12 13 14]\n",
      "120\n",
      "(120, 1024)\n"
     ]
    }
   ],
   "source": [
    "tr_ind, te_ind = partition_data(labels, num_per_class=3)\n",
    "tr_data = data[tr_ind, :]\n",
    "tr_label = labels[tr_ind]\n",
    "te_data = data[te_ind, :]\n",
    "te_label = labels[te_ind]\n",
    "a = labels[0:15]\n",
    "tr_ind_e, te_ind_e = partition_data(a, num_per_class=5)\n",
    "print(labels[1:12])\n",
    "print(tr_ind_e)\n",
    "print(tr_data.shape[0])\n",
    "print(tr_data.shape)\n"
   ]
  },
  {
   "cell_type": "markdown",
   "metadata": {},
   "source": [
    "## 3. $L_2$-regularised least squares implementation\n",
    "\n",
    "Now, you will need to implement the function `l2_rls_train` below. It should train a linear model by minimising the $L_2$-regularised sum of squares loss using the normal equations (this is called $L_2$*-regularised least squares model*, or *ridge regression model*). It should support both single-output and multi-output cases. This function should take a set of training samples and a user-specified regularisation parameter $\\lambda$ as the input, and return the predicted weights."
   ]
  },
  {
   "cell_type": "code",
   "execution_count": 6,
   "metadata": {},
   "outputs": [],
   "source": [
    "import numpy as np\n",
    "def l2_rls_train(tr_data, tr_labels, l2_lembda\n",
    "                ):\n",
    "    \"\"\"\n",
    "    A summary of your function goes here.\n",
    "\n",
    "    data: type and description of \"data\"\n",
    "    labels: type and description of \"labels\"\n",
    "\n",
    "    Returns: type and description of the returned variable(s).\n",
    "    \"\"\"\n",
    "    # This is just to be consistent with the lecture notes.\n",
    "    X, y = tr_data, tr_labels\n",
    "    \n",
    "    # Expand X with a column of ones.\n",
    "    X_tilde = np.ones([(X.shape[0]), (X.shape[1] + 1)])\n",
    "    for i in range(X.shape[0]):\n",
    "        X_tilde[i] = np.append([1], X[i])\n",
    "    \n",
    "    # Compute the coefficient vector.\n",
    "    # When parameter is zero, use pesudo inverse equation\n",
    "    if len(tr_labels.shape) == 1:\n",
    "        if l2_lembda != 0:\n",
    "            identy_matrix = np.eye(X_tilde.shape[0])\n",
    "            w = ((X_tilde.T)@np.linalg.inv(X_tilde@X_tilde.T + l2_lembda *identy_matrix))@y[:,None]\n",
    "        else:\n",
    "            w = np.linalg.pinv(X_tilde)@y[:,None]\n",
    "    else:\n",
    "        if l2_lembda != 0:\n",
    "            identy_matrix = np.eye(X_tilde.shape[0])\n",
    "            w = ((X_tilde.T)@np.linalg.inv(X_tilde@X_tilde.T + l2_lembda *identy_matrix))@y\n",
    "        else:\n",
    "            w = np.linalg.pinv(X_tilde)@y\n",
    "\n",
    "     #Return model parameters.\n",
    "    return w\n"
   ]
  },
  {
   "cell_type": "markdown",
   "metadata": {},
   "source": [
    "Once you have trained your model, you can use it on to predict new data. Implement the following function to do this."
   ]
  },
  {
   "cell_type": "code",
   "execution_count": 7,
   "metadata": {},
   "outputs": [],
   "source": [
    "def l2_rls_predict(w, data\n",
    "                  ):\n",
    "    \"\"\"\n",
    "    A summary of your function goes here.\n",
    "\n",
    "    data: type and description of \"data\"\n",
    "\n",
    "    Returns: type and description of the returned variable(s).\n",
    "    \"\"\"\n",
    "    \n",
    "    # This is just to be consistent with the lecture notes.\n",
    "    X = data\n",
    "    #expand feature vector\n",
    "    X_expanded = np.ones([(X.shape[0]), (X.shape[1] + 1)])\n",
    "    for i in range(X.shape[0]):\n",
    "        X_expanded[i] = np.append([1], X[i])\n",
    "    # Your code goes here\n",
    "    predicted_y = X_expanded@w\n",
    "    #predicted_y = w.T@X_expanded.T\n",
    "    \n",
    "    \n",
    "    return predicted_y\n"
   ]
  },
  {
   "cell_type": "markdown",
   "metadata": {},
   "source": [
    "## 4. Experiments\n",
    "\n",
    "Start to use your functions `l2_rls_train` and `l2_rls_predict` to perform the following experiments.\n",
    "\n",
    "### Experiment 1: Binary Classification\n",
    "\n",
    "Start with a binary classification task to classify face images for subjects “1” and “30”.\n",
    "\n",
    "Train three classifiers:\n",
    "1. Set $y=-1$ for samples from “1” and $y=+1$ for samples from “30” to train a linear model, and use the threshold $T= 0$ to obtain the class prediction.\n",
    "2. Set $y=0$ for samples from “1” and $y=1$ for samples from “30” to train a linear model, and use the threshold $T= 0.5$ to obtain the class prediction.\n",
    "2. Set $y=1$ for samples from “1” and $y=30$ for samples from “30” to train a linear model, and use the threshold $T= 15.5$ to obtain the class prediction.\n",
    "\n",
    "Randomly select 3 images per subject for training, and use the remaining images for testing. Train your classifier 1 and test it with a fixed regularisation parameter $\\lambda$=0. Repeat this process 50 times and record the training and test errors."
   ]
  },
  {
   "cell_type": "code",
   "execution_count": 8,
   "metadata": {},
   "outputs": [],
   "source": [
    "def exp1(label_class_1, label_class_30):\n",
    "    tr_err = np.zeros([50])\n",
    "    te_err = np.zeros([50])\n",
    "    \n",
    "    for i in range(50):\n",
    "        # Map the labels and partition the data\n",
    "        num_per_class = 3\n",
    "        tr_data = np.zeros([6,data.shape[1]])\n",
    "        te_data = np.zeros([14,data.shape[1]])\n",
    "        tr_ind, te_ind = partition_data(labels, num_per_class)\n",
    "        tr_data[0:3,:] = (data[tr_ind, :])[0:3, :]\n",
    "        tr_data[3:6,:] = (data[tr_ind, :])[87:90, :]\n",
    "        te_data[0:7,:] = (data[te_ind, :])[0:7, :]\n",
    "        te_data[7:14,:] = (data[te_ind, :])[203:210, :]\n",
    "        tr_label = np.zeros(num_per_class*2, dtype = int)\n",
    "        tr_label[0:num_per_class]= label_class_1\n",
    "        tr_label[num_per_class:num_per_class*2]= label_class_30\n",
    "        # Train your model\n",
    "        w = l2_rls_train(tr_data, tr_label, 0)\n",
    "        \n",
    "        # Define the threshold\n",
    "        T = (label_class_1+label_class_30)/2\n",
    "\n",
    "        # Perform prediction for training and compute the training error\n",
    "        predicted_y_train = l2_rls_predict(w,tr_data)\n",
    "        predicted_y_test = l2_rls_predict(w,te_data)\n",
    "\n",
    "        tr_err[i] = ((predicted_y_train[0:3, :] >= T).sum() + (predicted_y_train[3:6, :]<T).sum())/6;\n",
    "\n",
    "        # Perform prediction for testing and compute the test error\n",
    "        te_err[i] = ((predicted_y_test[0:7, :] >= T).sum() + (predicted_y_test[7:14, :]<T).sum())/14;\n",
    "    return tr_err,te_err"
   ]
  },
  {
   "cell_type": "code",
   "execution_count": 46,
   "metadata": {},
   "outputs": [],
   "source": [
    "# Use the `exp1()` function to experiment with classifier 1.\n",
    "# Your code goes here.\n",
    "classification_1_train = exp1(-1,1)[0]\n",
    "classification_1_test = exp1(-1,1)[1]"
   ]
  },
  {
   "cell_type": "markdown",
   "metadata": {},
   "source": [
    "Repeat the same experiment for classifier 2."
   ]
  },
  {
   "cell_type": "code",
   "execution_count": 47,
   "metadata": {},
   "outputs": [],
   "source": [
    "# Use the `exp1()` function to experiment with classifier 2.\n",
    "# Your code goes here.\n",
    "classification_2_train = exp1(0,1)[0]\n",
    "classification_2_test = exp1(0,1)[1]"
   ]
  },
  {
   "cell_type": "markdown",
   "metadata": {},
   "source": [
    "Repeat the same experiment for classifier 3."
   ]
  },
  {
   "cell_type": "code",
   "execution_count": 48,
   "metadata": {},
   "outputs": [],
   "source": [
    "# Use the `exp1()` function to experiment with classifier 3.\n",
    "# Your code goes here.\n",
    "classification_3_train = exp1(1, 30)[0]\n",
    "classification_3_test = exp1(1,30)[1]"
   ]
  },
  {
   "cell_type": "markdown",
   "metadata": {},
   "source": [
    "Print the test error mean and standard deviation of the three classifiers and display them in the same plot."
   ]
  },
  {
   "cell_type": "code",
   "execution_count": 49,
   "metadata": {},
   "outputs": [
    {
     "name": "stdout",
     "output_type": "stream",
     "text": [
      " Classifier   | train/test |  mean      | standard deviation \n",
      " 1            | train      |  0.0000000 |  0.0000000\n",
      " 1            | test       |  0.0671429 |  0.0962671\n",
      " 2            | train      |  0.0000000 |  0.0000000\n",
      " 2            | test       |  0.0885714 |  0.1025790\n",
      " 3            | train      |  0.0000000 |  0.0000000\n",
      " 3            | test       |  0.0800000 |  0.0910707\n"
     ]
    },
    {
     "data": {
      "image/png": "[encoded data removed]",
      "text/plain": [
       "<Figure size 432x288 with 1 Axes>"
      ]
     },
     "metadata": {
      "needs_background": "light"
     },
     "output_type": "display_data"
    }
   ],
   "source": [
    "# Your code goes here\n",
    "print(' Classifier   | train/test |  mean      | standard deviation ')\n",
    "print('% 2d            | train      | % 10.7f | % 10.7f'%(1, classification_1_train.mean(),classification_1_train.std()))\n",
    "print('% 2d            | test       | % 10.7f | % 10.7f'%(1, classification_1_test.mean(),classification_1_test.std()))\n",
    "print('% 2d            | train      | % 10.7f | % 10.7f'%(2, classification_2_train.mean(),classification_2_train.std()))\n",
    "print('% 2d            | test       | % 10.7f | % 10.7f'%(2, classification_2_test.mean(),classification_2_test.std()))\n",
    "print('% 2d            | train      | % 10.7f | % 10.7f'%(3, classification_3_train.mean(),classification_3_train.std()))\n",
    "print('% 2d            | test       | % 10.7f | % 10.7f'%(3, classification_3_test.mean(),classification_3_test.std()))\n",
    "\n",
    "\n",
    "from matplotlib import pyplot as plt\n",
    "x = [1,2,3]\n",
    "y_train_error = [classification_1_train.mean(), classification_2_train.mean(), classification_3_train.mean()]\n",
    "train_std = [classification_1_train.std(), classification_2_train.std(), classification_3_train.std()]\n",
    "y_test_error = [classification_1_test.mean(), classification_2_test.mean(), classification_3_test.mean()]\n",
    "test_std = [classification_1_test.std(), classification_2_test.std(), classification_3_test.std()]\n",
    "plt.errorbar(x, y_train_error, train_std,marker = \"o\",label='train')\n",
    "plt.errorbar(x, y_test_error, test_std,marker = \"o\",label=' test')\n",
    "plt.xlabel('classifier number')\n",
    "plt.ylabel('error')\n",
    "plt.title('Training/tesing accuracy error bar')\n",
    "plt.legend()\n",
    "plt.show()"
   ]
  },
  {
   "cell_type": "markdown",
   "metadata": {},
   "source": [
    "Compare the three classifiers and comment on your results."
   ]
  },
  {
   "cell_type": "raw",
   "metadata": {},
   "source": [
    "since classifier 1, 2 boundaries are relatively small which means performance of this classification model will be sensitive, error rate and standard deviation will be higher than the other two.\n",
    "however, in classification 3, boundaries from 1 to 30, so here error rate tends to be more stable."
   ]
  },
  {
   "cell_type": "markdown",
   "metadata": {},
   "source": [
    "What training accuracies do you obtain with your linear classifier? Explain the reason."
   ]
  },
  {
   "cell_type": "raw",
   "metadata": {},
   "source": [
    "training error is always zero here. when use train data to find the vector matrix: w = np.linalg.pinv(X_tilde)@y, w here is the inverse of X_tilde multiple the train_label \n",
    "\n",
    "however when using the same train data to test\n",
    "    predicted_label = X_tilde @w    ==>    X_tilde@np.linalg.pinv(X_tilde)@y    ==> y \n",
    "    which then result the original train_label \n",
    "    \n",
    "therefore, train error rate is always 0 "
   ]
  },
  {
   "cell_type": "markdown",
   "metadata": {},
   "source": [
    "Between subjects “1” and “30”, which one is more difficult for the linear classifier to recognise? Explain it."
   ]
  },
  {
   "cell_type": "raw",
   "metadata": {},
   "source": [
    "First person(10 pictures) is much difficult than others, since this ten picturs all have different angles, he also has different expressions, so its hard to predict."
   ]
  },
  {
   "cell_type": "markdown",
   "metadata": {},
   "source": [
    "### Experiment 2: Multi-class Classification\n",
    "\n",
    "Now, proceed to the multi-class classification task to classify face images for all the 40 subjects. Decide an appropriate way to set your target output and make class prediction. \n",
    "\n",
    "Split your data to two sets: the training set contains 5 randomly selected images per subject and the test set contains the remaining images. The training set is used to train the model and select hyper-parameter $\\lambda$, while the test set is only for final assessment of the trained classifier with the selected $\\lambda$. \n",
    "\n",
    "Design an appropriate and complete machine learning experiment, which should include the training, hyper-parameter selection and evaluation stages. You can choose from the random subsampling, $k$-fold CV and LOO approaches for hyper-parameter selection. \n",
    "\n",
    "Write your code below and make sure it compiles. Show your code to the TA, explain your classifier and experiment design."
   ]
  },
  {
   "cell_type": "code",
   "execution_count": 13,
   "metadata": {},
   "outputs": [],
   "source": [
    "def hyperparameter_selection(hyperparameter_set, train_ind\n",
    "                            ):\n",
    "    \"\"\"\n",
    "    Finds the best value for lambda using some method of hyperparameter selection.\n",
    "    \"\"\"\n",
    "    lamda_error_rate = np.empty(hyperparameter_set.shape[0]) #record the error rate under each parameter\n",
    "    # Your code goes here\n",
    "    no_lambda = 0\n",
    "    for no_lambda in range(hyperparameter_set.shape[0]):\n",
    "        lambda_ = hyperparameter_set[no_lambda]\n",
    "        #choose LOO function, N is 5.\n",
    "        number_of_selection = 4\n",
    "        eror_per_N = np.empty(5)\n",
    "        for k in range(5):        \n",
    "            #given 4 tarining data 1 test data to find least lambda\n",
    "            lambda_train_ind = np.zeros(number_of_selection * 40,dtype = int) \n",
    "            lambda_test_ind = np.zeros((5-number_of_selection) * 40,dtype = int)\n",
    "            temp = 0\n",
    "            tr_temp = 0\n",
    "            te_temp = 0\n",
    "            for i in range(40):\n",
    "                lambda_test_ind[te_temp: te_temp+1] = (train_ind[temp:temp+5])[k]\n",
    "                lambda_train_ind[tr_temp: tr_temp+4] = np.setdiff1d(train_ind[temp:temp+5], lambda_test_ind[te_temp: te_temp+1])\n",
    "                tr_temp += 4\n",
    "                te_temp += 1\n",
    "                temp += 5\n",
    "            #after LOO the train data.\n",
    "            lambda_train_label = np.zeros([number_of_selection * 40, 40], dtype = int)\n",
    "            lambda_train_data = data[lambda_train_ind, :]\n",
    "            lambda_test_data = data[lambda_test_ind,:]\n",
    "            lambda_test_label = labels[lambda_test_ind]\n",
    "            #start to transform the label matrix\n",
    "            for x in range(40):\n",
    "                for r in range(number_of_selection * 40):\n",
    "                    if(r >= x*number_of_selection and r< (x+1)*number_of_selection):\n",
    "                        for c in range(40):\n",
    "                            if c == x: \n",
    "                                lambda_train_label[r,c] = 1\n",
    "                            else:\n",
    "                                lambda_train_label[r,c] = -1\n",
    "            #then check weight \n",
    "            w = l2_rls_train(lambda_train_data, lambda_train_label, lambda_)\n",
    "            predicted_y_test = l2_rls_predict(w,lambda_test_data)\n",
    "            #analysis error rate \n",
    "            predict_result = np.argmax(predicted_y_test,axis=1)+1\n",
    "            eror_per_N[k] = (40-np.sum(predict_result == lambda_test_label))/40\n",
    "            \n",
    "        #after all 5 LOO, find the mean error rate and refers to the specific lambda\n",
    "        lamda_error_rate[no_lambda] = eror_per_N.mean()\n",
    "    \n",
    "    #find the best lambda\n",
    "    best_lambda = np.argmin(lamda_error_rate)\n",
    "        \n",
    "        \n",
    "    return lamda_error_rate, hyperparameter_set[best_lambda]"
   ]
  },
  {
   "cell_type": "code",
   "execution_count": 14,
   "metadata": {
    "scrolled": true
   },
   "outputs": [
    {
     "data": {
      "image/png": "[encoded data removed]",
      "text/plain": [
       "<Figure size 432x288 with 1 Axes>"
      ]
     },
     "metadata": {
      "needs_background": "light"
     },
     "output_type": "display_data"
    },
    {
     "name": "stdout",
     "output_type": "stream",
     "text": [
      "Evaluation error rate is 0.03\n",
      "object: 1 with: 1\n",
      "object: 3 with: 1\n",
      "object: 5 with: 1\n",
      "object: 10 with: 1\n",
      "object: 13 with: 1\n",
      "object: 26 with: 1\n"
     ]
    },
    {
     "data": {
      "image/png": "[encoded data removed]",
      "text/plain": [
       "<Figure size 432x288 with 1 Axes>"
      ]
     },
     "metadata": {
      "needs_background": "light"
     },
     "output_type": "display_data"
    }
   ],
   "source": [
    "# Your code goes here\n",
    "tr_ind, te_ind = partition_data(labels, num_per_class=5)\n",
    "tr_data = data[tr_ind, :]\n",
    "tr_label = labels[tr_ind]\n",
    "te_data = data[te_ind, :]\n",
    "te_label = labels[te_ind]\n",
    "#give set of lambdas \n",
    "base_set = np.arange(start=-5, stop=10, step=0.375)\n",
    "hyper_set = np.zeros(40)\n",
    "for i in range(hyper_set.shape[0]):\n",
    "    hyper_set[i] = 10**base_set[i]\n",
    "#train the data and find the best lambda\n",
    "result = hyperparameter_selection(hyper_set,tr_ind)\n",
    "error_rate = result[0]\n",
    "best_lembda = result[1]\n",
    "\n",
    "#plot the all lemda performance\n",
    "x = base_set\n",
    "y_train_error = error_rate\n",
    "plt.plot(base_set, error_rate,'r--o')\n",
    "plt.xlabel('log10n')\n",
    "plt.ylabel('error rate')\n",
    "plt.title('Lembda performance')\n",
    "plt.show()\n",
    "\n",
    "#use the best lemda to train test data\n",
    "lambda_train_label = np.zeros([200, 40], dtype = int)\n",
    "for x in range(40):\n",
    "        for r in range(5 * 40):\n",
    "            if(r >= x*5 and r< (x+1)*5):\n",
    "                for c in range(40):\n",
    "                    if c == x: \n",
    "                        lambda_train_label[r,c] = 1\n",
    "                    else:\n",
    "                        lambda_train_label[r,c] = -1\n",
    "w = l2_rls_train(tr_data, lambda_train_label, best_lembda)\n",
    "predicted_y_test = l2_rls_predict(w,te_data)\n",
    "predict_result = np.argmax(predicted_y_test,axis=1)+1\n",
    "test_eror_rate = (200-np.sum(predict_result == te_label))/200\n",
    "\n",
    "#find which subject is most difficult to recognise\n",
    "difference = (predict_result !=te_label)\n",
    "error_object = np.empty(40, dtype = int )\n",
    "print('Evaluation error rate is',test_eror_rate)\n",
    "for i in range(1,41):\n",
    "    error_object[i-1] = np.sum(difference[(i-1)*5 :(i-1)*5 +5 ])\n",
    "for i in range(40):\n",
    "    if(error_object[i] != 0):\n",
    "        print(\"object:\", i+1, \"with:\", error_object[i])\n",
    "max = np.argmax(error_object)\n",
    "show_faces(data[max*10:(max*10 + 10), :], num_per_row=3)"
   ]
  },
  {
   "cell_type": "raw",
   "metadata": {},
   "source": []
  },
  {
   "cell_type": "markdown",
   "metadata": {},
   "source": [
    "Analyse the classification results, and pick some subjects that are considered the most difficult to recognise by your classifier. Show and explain it to the TA."
   ]
  },
  {
   "cell_type": "raw",
   "metadata": {},
   "source": [
    "we can easly see the failed test objects from the output above, with the help of the images, the most difficult to recongize is when the person is not look at the camera, or when he wear glasses, or when he is making some weird expressions. "
   ]
  },
  {
   "cell_type": "markdown",
   "metadata": {},
   "source": [
    "### Experiment 3: Face Completion\n",
    "\n",
    "Revise the “Regression Example II” on face completion in Chapter 2. The task is to guess the 512 pixels of the right face from the 512 pixels of the left face. \n",
    "\n",
    "The following command can be used to extract the left and right faces from the input data."
   ]
  },
  {
   "cell_type": "code",
   "execution_count": 15,
   "metadata": {},
   "outputs": [],
   "source": [
    "left, right = split_left_right(data)"
   ]
  },
  {
   "cell_type": "markdown",
   "metadata": {},
   "source": [
    "And you can visualise them with the function `show_split_faces()`:"
   ]
  },
  {
   "cell_type": "code",
   "execution_count": 16,
   "metadata": {},
   "outputs": [
    {
     "name": "stdout",
     "output_type": "stream",
     "text": [
      "[[ 75 101 128 ... 166 164 157]\n",
      " [110 124 144 ... 156 157 151]\n",
      " [ 77 119 142 ... 172 165 159]\n",
      " ...\n",
      " [121 147 159 ... 150 154 152]\n",
      " [ 52  53  51 ... 183 188 191]\n",
      " [125  68  60 ... 178 184 180]]\n"
     ]
    }
   ],
   "source": [
    "print(left)"
   ]
  },
  {
   "cell_type": "markdown",
   "metadata": {},
   "source": [
    "Build a face completion model using your functions `l2_rls_train` and `l2_rls_predict`. Design an experiment to assess your model, which should include appropriate training and testing. Use mean absolute percentage error to evaluate the regression performance. You do not need to bother with hyper-parameter selection, but simply set $\\lambda$=0.\n",
    "\n",
    "Write your code below and make sure it compiles. Show your code to the TA, explain your model and experiment design, and demonstrate results."
   ]
  },
  {
   "cell_type": "code",
   "execution_count": 17,
   "metadata": {},
   "outputs": [],
   "source": [
    "# Your code goes here\n",
    "def face_completion(tr_data_3_left, tr_data_3_right, te_data_3_left, te_data_3_right):\n",
    "    #train the model by finding the relation between right face and left face.\n",
    "    w_3 = l2_rls_train(tr_data_3_left, tr_data_3_right, 0)\n",
    "    predicted_y_test = l2_rls_predict(w_3,te_data_3_left)\n",
    "    MAPE_N = np.empty((10-number_of_train)*40)\n",
    "    for i in range((10-number_of_train)*40):\n",
    "        MAPE_M = np.empty(512) \n",
    "        for j in range(512):\n",
    "            MAPE_M[j] = abs(te_data_3_right[i, j]- predicted_y_test[i,j])/te_data_3_right[i,j]\n",
    "        MAPE_N[i] = MAPE_M.sum()\n",
    "    #follow the MAPE formula to get the final error rate \n",
    "    error_rate = MAPE_N.sum()/((10-number_of_train)*40*512)\n",
    "    return error_rate, predicted_y_test\n"
   ]
  },
  {
   "cell_type": "markdown",
   "metadata": {},
   "source": [
    "Visualise and compare the ground truth face (include both the left and right parts) and the completed face (include both the true left and predicted right parts) for 3 randomly chosen testing samples below. You can use `join_left_right(left, right)` to concatenate the left and right halves of a set of faces."
   ]
  },
  {
   "cell_type": "code",
   "execution_count": 18,
   "metadata": {},
   "outputs": [
    {
     "name": "stdout",
     "output_type": "stream",
     "text": [
      "Error rate for face completion mode is  0.2381766720427607\n"
     ]
    },
    {
     "data": {
      "image/png": "[encoded data removed]",
      "text/plain": [
       "<Figure size 432x288 with 1 Axes>"
      ]
     },
     "metadata": {
      "needs_background": "light"
     },
     "output_type": "display_data"
    }
   ],
   "source": [
    "# Your code goes here\n",
    "import random\n",
    "number_of_train = 5\n",
    "left, right = split_left_right(data)\n",
    "tr_ind_3, te_ind_3 = partition_data(labels, num_per_class= number_of_train)\n",
    "tr_data_3_left = left[tr_ind_3, :]\n",
    "tr_data_3_right = right[tr_ind_3, :]\n",
    "te_data_3_left = left[te_ind_3, :]\n",
    "te_data_3_right = right[te_ind_3]\n",
    "#random choose three examples from the test data\n",
    "c = range(0,(10-number_of_train)*40)\n",
    "random_face = random.sample(c, 3)\n",
    "left_face = te_data_3_left[random_face, :]\n",
    "#predict the right faces of test data set\n",
    "result = face_completion(tr_data_3_left, tr_data_3_right, te_data_3_left, te_data_3_right)\n",
    "right_face = (result[1])[random_face, :]\n",
    "face= join_left_right(left_face,right_face)\n",
    "show_faces(face,num_per_row=1)\n",
    "print(\"Error rate for face completion mode is \", result[0])"
   ]
  },
  {
   "cell_type": "markdown",
   "metadata": {},
   "source": [
    "Does your model work well? Comment on it."
   ]
  },
  {
   "cell_type": "raw",
   "metadata": {},
   "source": [
    "This face recongizing classification works not pretty well based on the error rate data. Manually testing, error rate is always around 20-30%, relatively high here. This may be because here we simply set lambda as 0, with hyperparameter selection, performance will be better. \n",
    "From other aspect, pictures printed here are still recognizable. Since some of data pictures have different angle, the predicted picture will then become different."
   ]
  },
  {
   "cell_type": "markdown",
   "metadata": {},
   "source": [
    "## 5. Deliverables and Marking\n",
    "\n",
    "By the deadline, you should submit one single Jupyter file using GitLab. Please find the coursework submission instruction from the following link: https://wiki.cs.manchester.ac.uk/index.php/UGHandbook19:Coursework .\n",
    "\n",
    "This exercise is worth 15 marks – marks will be allocated roughly on the basis of: \n",
    "- rigorous experimentation,\n",
    "- knowledge displayed when talking to the TA,\n",
    "- problem solving skill,\n",
    "- self-learning ability,\n",
    "- how informative and well presented your graphs are,\n",
    "- language and ease of reading.\n",
    "\n",
    "You must be able to explain any code you've written in order to get full marks. During the marking session we will ask you to run all cells in your Jupyter file, so ensure that the file is runnable using the \"Restart Kernel and Run All Cells\" menu option.\n",
    "\n",
    "The lab is marked out of 15:\n",
    "\n",
    "|                          |         |\n",
    "|:------------------------ |--------:|\n",
    "| $L_2$-RLS Implementation | 3 marks |\n",
    "| Experiment 1             | 4 marks |\n",
    "| Experiment 2             | 4 marks |\n",
    "| Experiment 3             | 4 marks |"
   ]
  }
 ],
 "metadata": {
  "kernelspec": {
   "display_name": "Python 3",
   "language": "python",
   "name": "python3"
  },
  "language_info": {
   "codemirror_mode": {
    "name": "ipython",
    "version": 3
   },
   "file_extension": ".py",
   "mimetype": "text/x-python",
   "name": "python",
   "nbconvert_exporter": "python",
   "pygments_lexer": "ipython3",
   "version": "3.6.6"
  }
 },
 "nbformat": 4,
 "nbformat_minor": 2
}
